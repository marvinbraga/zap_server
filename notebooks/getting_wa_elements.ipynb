{
 "cells": [
  {
   "cell_type": "code",
   "execution_count": null,
   "id": "initial_id",
   "metadata": {
    "collapsed": true
   },
   "outputs": [],
   "source": [
    "from dotenv import load_dotenv, find_dotenv\n",
    "\n",
    "load_dotenv(find_dotenv())"
   ]
  },
  {
   "cell_type": "code",
   "outputs": [],
   "source": [
    "from server.adapters.adapts import AdapteeTheFirstWhatsApp\n",
    "\n",
    "wa = AdapteeTheFirstWhatsApp(token=\"user_token\", no_headless=True)"
   ],
   "metadata": {
    "collapsed": false
   },
   "id": "fa7125e500232c11",
   "execution_count": null
  },
  {
   "cell_type": "code",
   "outputs": [],
   "source": [
    "wa.properties.get_qrcode()"
   ],
   "metadata": {
    "collapsed": false
   },
   "id": "5afbe1f3cb78a4a6",
   "execution_count": null
  },
  {
   "cell_type": "code",
   "outputs": [],
   "source": [
    "whatsapp = wa._object "
   ],
   "metadata": {
    "collapsed": false
   },
   "id": "71202a04a08e608b",
   "execution_count": null
  },
  {
   "cell_type": "code",
   "outputs": [],
   "source": [
    "whatsapp"
   ],
   "metadata": {
    "collapsed": false
   },
   "id": "665be10ebdcd781e",
   "execution_count": null
  },
  {
   "cell_type": "code",
   "outputs": [],
   "source": [
    "driver = whatsapp.driver"
   ],
   "metadata": {
    "collapsed": false
   },
   "id": "89fe268ac083319c",
   "execution_count": null
  },
  {
   "cell_type": "code",
   "outputs": [],
   "source": [
    "driver"
   ],
   "metadata": {
    "collapsed": false
   },
   "id": "afddd602ca3dfec7",
   "execution_count": null
  },
  {
   "cell_type": "markdown",
   "source": [
    "# Search"
   ],
   "metadata": {
    "collapsed": false
   },
   "id": "71a5462fc8f6f225"
  },
  {
   "cell_type": "code",
   "outputs": [],
   "source": [
    "import os\n",
    "from selenium.webdriver.common.by import By\n",
    "from selenium.webdriver import ActionChains\n",
    "from selenium.webdriver import Keys"
   ],
   "metadata": {
    "collapsed": false
   },
   "id": "88025cd046db71c1",
   "execution_count": null
  },
  {
   "cell_type": "code",
   "outputs": [],
   "source": [
    "actions = ActionChains(driver.browser)"
   ],
   "metadata": {
    "collapsed": false
   },
   "id": "1fad96f78fc8484b",
   "execution_count": null
  },
  {
   "cell_type": "code",
   "outputs": [],
   "source": [
    "def clear_search():\n",
    "    # Campo de pesquisa\n",
    "    search = driver.browser.find_element(by=By.XPATH, value=\"/html/body/div[1]/div/div[2]/div[3]/div/div[1]/div/div[2]/div[2]/div/div\")\n",
    "    search.click()\n",
    "    actions.send_keys(\" \").perform()\n",
    "    actions.key_down(Keys.LEFT_CONTROL).key_down(Keys.SHIFT).send_keys(Keys.HOME).key_up(Keys.CONTROL).key_up(Keys.SHIFT).send_keys(Keys.BACK_SPACE).perform()\n",
    "    sleep(1)"
   ],
   "metadata": {
    "collapsed": false
   },
   "id": "943f3c25fc1a58af",
   "execution_count": null
  },
  {
   "cell_type": "code",
   "outputs": [],
   "source": [
    "clear_search()"
   ],
   "metadata": {
    "collapsed": false
   },
   "id": "2db6d01abd97db82",
   "execution_count": null
  },
  {
   "cell_type": "markdown",
   "source": [
    "## Pesquisar Grupo"
   ],
   "metadata": {
    "collapsed": false
   },
   "id": "655fc86c8d787cc6"
  },
  {
   "cell_type": "code",
   "outputs": [],
   "source": [
    "def search_group(group_name: str):\n",
    "    s = driver.browser.find_element(by=By.XPATH, value=\"/html/body/div[1]/div/div[2]/div[3]/div/div[1]/div/div[2]/div[2]/div/div\")\n",
    "    s.click()\n",
    "    actions.send_keys(group_name + Keys.ENTER).perform()\n",
    "    sleep(2)"
   ],
   "metadata": {
    "collapsed": false
   },
   "id": "672eb7bd99b08027",
   "execution_count": null
  },
  {
   "cell_type": "code",
   "outputs": [],
   "source": [
    "search_group(os.environ[\"GROUP_NAME\"])"
   ],
   "metadata": {
    "collapsed": false
   },
   "id": "1eab8625ccf162c0",
   "execution_count": null
  },
  {
   "cell_type": "markdown",
   "source": [
    "## Enviando Mensagem"
   ],
   "metadata": {
    "collapsed": false
   },
   "id": "ff514fb2468aa053"
  },
  {
   "cell_type": "code",
   "outputs": [],
   "source": [
    "msg = driver.browser.find_element(by=By.XPATH, value=\"/html/body/div[1]/div/div[2]/div[4]/div/footer/div[1]/div/span[2]/div/div[2]/div[1]\")"
   ],
   "metadata": {
    "collapsed": false
   },
   "id": "8c09f319cf168833",
   "execution_count": null
  },
  {
   "cell_type": "code",
   "outputs": [],
   "source": [
    "msg.click()"
   ],
   "metadata": {
    "collapsed": false
   },
   "id": "48eeeff8231d01b9",
   "execution_count": null
  },
  {
   "cell_type": "code",
   "outputs": [],
   "source": [
    "actions.send_keys(\"Let's to try!\" + Keys.ENTER).perform()"
   ],
   "metadata": {
    "collapsed": false
   },
   "id": "73fad18766f7a549",
   "execution_count": null
  },
  {
   "cell_type": "markdown",
   "source": [
    "## Acessando o Painel de Grupos"
   ],
   "metadata": {
    "collapsed": false
   },
   "id": "f292f3cd50b6157e"
  },
  {
   "cell_type": "code",
   "outputs": [],
   "source": [
    "def access_group_panel():\n",
    "    group_title = driver.browser.find_element(by=By.XPATH, value=\"/html/body/div[1]/div/div[2]/div[4]/div/header/div[2]\")\n",
    "    group_title.click()\n",
    "    sleep(2)"
   ],
   "metadata": {
    "collapsed": false
   },
   "id": "2ab4a13fa28cc8e8",
   "execution_count": null
  },
  {
   "cell_type": "code",
   "outputs": [],
   "source": [
    "access_group_panel()"
   ],
   "metadata": {
    "collapsed": false
   },
   "id": "8e990b2d9d6347cd",
   "execution_count": null
  },
  {
   "cell_type": "markdown",
   "source": [
    "## Salvando Código da Página"
   ],
   "metadata": {
    "collapsed": false
   },
   "id": "8b0d8b2a7b8a87ff"
  },
  {
   "cell_type": "code",
   "outputs": [],
   "source": [
    "import datetime\n",
    "now = datetime.datetime.now()\n",
    "formatted_date = now.strftime(\"%Y%m%d_%H%M%S%f\")"
   ],
   "metadata": {
    "collapsed": false
   },
   "id": "858013b3698a11e9",
   "execution_count": null
  },
  {
   "cell_type": "code",
   "outputs": [],
   "source": [
    "with open(os.path.normpath(f\"res/{formatted_date}_wa.html\"), \"w\", encoding=\"utf-8\") as file:\n",
    "    file.write(driver.browser.page_source)"
   ],
   "metadata": {
    "collapsed": false
   },
   "id": "265ccb9be6eb948c",
   "execution_count": null
  },
  {
   "cell_type": "markdown",
   "source": [
    "## Botão para Fechar Painel de Grupo"
   ],
   "metadata": {
    "collapsed": false
   },
   "id": "9c6943da75740ecb"
  },
  {
   "cell_type": "code",
   "outputs": [],
   "source": [
    "def close_group_panel():\n",
    "    button = driver.browser.find_element(by=By.XPATH, value=\"/html/body/div[1]/div/div[2]/div[5]/span/div/span/div/div/header/div/div[1]/div\")\n",
    "    button.click()"
   ],
   "metadata": {
    "collapsed": false
   },
   "id": "61238c64ba5e477f",
   "execution_count": null
  },
  {
   "cell_type": "code",
   "outputs": [],
   "source": [
    "close_group_panel()"
   ],
   "metadata": {
    "collapsed": false
   },
   "id": "902f4a1e79bef12d",
   "execution_count": null
  },
  {
   "cell_type": "markdown",
   "source": [
    "## Renomear Grupo"
   ],
   "metadata": {
    "collapsed": false
   },
   "id": "c603578caa63eb98"
  },
  {
   "cell_type": "code",
   "outputs": [],
   "source": [
    "def rename_group(old_name: str, new_name: str):\n",
    "    search_group(old_name)\n",
    "    sleep(1)\n",
    "    access_group_panel()\n",
    "    rename_button = driver.browser.find_element(by=By.XPATH, value=\"/html/body/div[1]/div/div[2]/div[5]/span/div/span/div/div/div/section/div[1]/div/div[2]/div/div/span[2]/button\")\n",
    "    rename_button.click()\n",
    "    sleep(1)\n",
    "    actions.send_keys(Keys.HOME).perform()\n",
    "    sleep(1)\n",
    "    actions.key_down(Keys.LEFT_CONTROL).send_keys(\"a\").key_up(Keys.CONTROL).send_keys(Keys.BACK_SPACE).perform()\n",
    "    sleep(1)\n",
    "    actions.send_keys(Keys.HOME).perform()\n",
    "    sleep(1)\n",
    "    actions.send_keys(new_name + Keys.ENTER).perform()\n",
    "    "
   ],
   "metadata": {
    "collapsed": false
   },
   "id": "586f3e481beb9498",
   "execution_count": null
  },
  {
   "cell_type": "code",
   "outputs": [],
   "source": [
    "rename_group(os.environ[\"GROUP_NAME\"], os.environ[\"NEW_GROUP_NAME\"])"
   ],
   "metadata": {
    "collapsed": false
   },
   "id": "1bd78838389c92",
   "execution_count": null
  },
  {
   "cell_type": "code",
   "outputs": [],
   "source": [
    "close_group_panel()\n",
    "clear_search()\n",
    "rename_group(os.environ[\"NEW_GROUP_NAME\"], os.environ[\"GROUP_NAME\"])"
   ],
   "metadata": {
    "collapsed": false
   },
   "id": "aaba4e7ba04f5891",
   "execution_count": null
  },
  {
   "cell_type": "code",
   "outputs": [],
   "source": [
    "def get_participants_count_for_group(group_name: str) -> int:\n",
    "    search_group(group_name)\n",
    "    sleep(1)\n",
    "    access_group_panel()\n",
    "    count_label = driver.browser.find_element(by=By.XPATH, value=\"/html/body/div[1]/div/div[2]/div[5]/span/div/span/div/div/div/section/div[1]/div/div[3]/span/span/button\")\n",
    "    sleep(1)\n",
    "    values = count_label.text.split(\" \")\n",
    "    close_group_panel()\n",
    "    return int(values[-1])"
   ],
   "metadata": {
    "collapsed": false
   },
   "id": "a51e19e5f53ea385",
   "execution_count": null
  },
  {
   "cell_type": "code",
   "outputs": [],
   "source": [
    "get_participants_count_for_group(os.environ[\"GROUP_NAME\"])"
   ],
   "metadata": {
    "collapsed": false
   },
   "id": "5d3d81a56f34ba3c",
   "execution_count": null
  },
  {
   "cell_type": "code",
   "outputs": [],
   "source": [
    "from time import sleep\n",
    "from selenium.webdriver.common.by import By\n",
    "from selenium.webdriver.common.keys import Keys\n",
    "from selenium.common.exceptions import ElementClickInterceptedException, TimeoutException\n",
    "from selenium.webdriver.support.ui import WebDriverWait\n",
    "from selenium.webdriver.support import expected_conditions as EC\n",
    "\n",
    "def get_participants_names_for_group(group_name: str, driver) -> list[str]:\n",
    "    search_group(group_name)\n",
    "    access_group_panel()\n",
    "    \n",
    "    try:\n",
    "        button_all_participants = WebDriverWait(driver, 10).until(\n",
    "            EC.element_to_be_clickable((By.XPATH, \"/html/body/div[1]/div/div[2]/div[5]/span/div/span/div/div/div/section/div[6]/div[2]/div[2]/div[2]\"))\n",
    "        )\n",
    "        driver.execute_script(\"arguments[0].scrollIntoView(true);\", button_all_participants)\n",
    "        button_all_participants.click()\n",
    "    except ElementClickInterceptedException:\n",
    "        print(\"Tentando clicar via JavaScript.\")\n",
    "        driver.execute_script(\"arguments[0].click();\", button_all_participants)\n",
    "    except TimeoutException:\n",
    "        print(\"O botão de todos os participantes não ficou clicável após 10 segundos.\")\n",
    "        return []\n",
    "    \n",
    "    try:\n",
    "        list_elements = WebDriverWait(driver, 10).until(\n",
    "            EC.visibility_of_all_elements_located((By.CSS_SELECTOR, \"div.thghmljt:nth-child(3) > div:nth-child(1) > div:nth-child(1) > div:nth-child(1)\"))\n",
    "        )\n",
    "    except TimeoutException:\n",
    "        print(\"Os elementos dos participantes não ficaram visíveis após 10 segundos.\")\n",
    "        return []\n",
    "\n",
    "    result = [element.text for element in list_elements]\n",
    "    sleep(1)\n",
    "    button_close = driver.find_element(by=By.XPATH, value=\"/html/body/div[1]/div/span[2]/div/span/div/div/div/div/div/div/header/div/div[1]/div\")\n",
    "    button_close.click()\n",
    "    sleep(1)\n",
    "    close_group_panel()\n",
    "        \n",
    "    return result"
   ],
   "metadata": {
    "collapsed": false
   },
   "id": "f850aa8f90fd2aea",
   "execution_count": null
  },
  {
   "cell_type": "code",
   "outputs": [],
   "source": [
    "get_participants_names_for_group(os.environ[\"GROUP_NAME\"], driver.browser)"
   ],
   "metadata": {
    "collapsed": false
   },
   "id": "5d66e8afbce5c68d",
   "execution_count": null
  },
  {
   "cell_type": "code",
   "outputs": [],
   "source": [
    "# XPATH\n",
    "\n"
   ],
   "metadata": {
    "collapsed": false
   },
   "id": "7a2ab2d8b3b0a383"
  }
 ],
 "metadata": {
  "kernelspec": {
   "display_name": "Python 3",
   "language": "python",
   "name": "python3"
  },
  "language_info": {
   "codemirror_mode": {
    "name": "ipython",
    "version": 2
   },
   "file_extension": ".py",
   "mimetype": "text/x-python",
   "name": "python",
   "nbconvert_exporter": "python",
   "pygments_lexer": "ipython2",
   "version": "2.7.6"
  }
 },
 "nbformat": 4,
 "nbformat_minor": 5
}
